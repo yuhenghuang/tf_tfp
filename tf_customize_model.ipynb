{
 "cells": [
  {
   "cell_type": "code",
   "execution_count": 1,
   "metadata": {},
   "outputs": [
    {
     "name": "stdout",
     "output_type": "stream",
     "text": [
      "2.3.0 0.11.0\n"
     ]
    }
   ],
   "source": [
    "from functools import partial\n",
    "\n",
    "import numpy as np\n",
    "import pandas as pd\n",
    "import matplotlib.pyplot as plt\n",
    "\n",
    "import tensorflow as tf\n",
    "import tensorflow_probability as tfp\n",
    "from tensorflow_probability import distributions as tfd\n",
    "\n",
    "print(tf.__version__, tfp.__version__)"
   ]
  },
  {
   "cell_type": "code",
   "execution_count": 2,
   "metadata": {},
   "outputs": [],
   "source": [
    "# constant term included as column in the matrices\n",
    "\n",
    "kwargs = {\n",
    "  'y' : tf.constant([1,2]), # size of T\n",
    "  'trends' : tf.constant([[1,2],[3,4]]), # size of T * G\n",
    "  'regressors' : tf.constant([[1,2],[3,4]]), # size of T * J\n",
    "  'exo_factors' : tf.constant([[1,2],[3,4]]), # size of T * K\n",
    "  'regularization' : 0.0, # scalar\n",
    "  'delta' : tf.constant([2,3]) # one dimensional vector\n",
    "}"
   ]
  },
  {
   "cell_type": "code",
   "execution_count": 3,
   "metadata": {},
   "outputs": [],
   "source": [
    "def baseline(trends, g):\n",
    "  return tf.matmul(trends, tf.expand_dims(g, -1))\n",
    "\n",
    "def short_term(regressors, beta):\n",
    "  return tf.matmul(regressors, tf.expand_dims(beta, -1))\n",
    "\n",
    "def long_term(regressors, gamma, delta):\n",
    "  add_stock = tf.nn.conv2d(\n",
    "    regressors[tf.newaxis, :, :, tf.newaxis],\n",
    "    filters=delta[:, tf.newaxis, tf.newaxis, tf.newaxis],\n",
    "    strides=1,\n",
    "    padding=\"VALID\"\n",
    "  )\n",
    "  \n",
    "  regressors_accu = tf.math.log(tf.squeeze(add_stock))\n",
    "  \n",
    "  return tf.matmul(regressors_accu, tf.expand_dims(gamma, -1))\n",
    "  \n",
    "def exo_term(exo_factors, theta):\n",
    "  return tf.matmul(exo_factors, tf.expand_dims(theta, -1))"
   ]
  },
  {
   "cell_type": "code",
   "execution_count": 4,
   "metadata": {},
   "outputs": [],
   "source": [
    "@tf.function(experimental_compile=True)\n",
    "def objective_function(params, y, trends, regressors, exo_factors, regularization, delta):\n",
    "  # unpack params\n",
    "  G, J, K, D = trends.shape[1], regressors.shape[1], exo_factors.shape[1], delta.shape[0]\n",
    "  g = params[:G]\n",
    "  beta = params[G:G+J]\n",
    "  gamma = params[G+J:G+2*J]\n",
    "  theta = params[G+2*J:G+2*J+K]\n",
    "  sigma = params[-1]\n",
    "  \n",
    "  effect_baseline = baseline(trends[D:, :], g)\n",
    "  effect_short = short_term(regressors[D:, :], beta)\n",
    "  effect_long = long_term(regressors[:-1, :], gamma)\n",
    "  effect_exo = exo_term(exo_factors[D:, :], theta)\n",
    "  \n",
    "  y_bar = effect_baseline + effect_short + effect_long + effect_exo\n",
    "  error = y[D:] - tf.squeeze(y_bar)\n",
    "  \n",
    "  dist = tfd.Normal(0.0, sigma)\n",
    "  \n",
    "  log_likelihood = tf.reduce_sum(tf.math.log(dist.prob(error)))\n",
    "  l2_penalty = regularization * tf.reduce_sum(tf.abs(params))\n",
    "  \n",
    "  total_loss = l2_penalty - log_likelihood\n",
    "  return total_loss, tf.gradients(total_loss, params)[0]"
   ]
  },
  {
   "cell_type": "code",
   "execution_count": null,
   "metadata": {},
   "outputs": [],
   "source": [
    "# obj_fn = partial(objective_function, **kwargs)\n",
    "\n",
    "# res = tfp.optimizer.lbfgs_minimize(\n",
    "#   obj_fn,\n",
    "#   initial_position=tf.constant([1,2]),\n",
    "#   tolerance=1e-8\n",
    "# )"
   ]
  },
  {
   "cell_type": "code",
   "execution_count": null,
   "metadata": {},
   "outputs": [],
   "source": []
  }
 ],
 "metadata": {
  "kernelspec": {
   "display_name": "Python 3",
   "language": "python",
   "name": "python3"
  },
  "language_info": {
   "codemirror_mode": {
    "name": "ipython",
    "version": 3
   },
   "file_extension": ".py",
   "mimetype": "text/x-python",
   "name": "python",
   "nbconvert_exporter": "python",
   "pygments_lexer": "ipython3",
   "version": "3.8.5"
  }
 },
 "nbformat": 4,
 "nbformat_minor": 4
}
