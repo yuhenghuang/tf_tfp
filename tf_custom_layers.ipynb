{
 "cells": [
  {
   "cell_type": "code",
   "execution_count": 1,
   "metadata": {},
   "outputs": [],
   "source": [
    "import tensorflow as tf"
   ]
  },
  {
   "cell_type": "code",
   "execution_count": 2,
   "metadata": {},
   "outputs": [],
   "source": [
    "layer = tf.keras.layers.Dense(100)\n",
    "\n",
    "layer = tf.keras.layers.Dense(10, input_shape=(None, 5))"
   ]
  },
  {
   "cell_type": "code",
   "execution_count": 3,
   "metadata": {},
   "outputs": [
    {
     "data": {
      "text/plain": [
       "<tf.Tensor: shape=(10, 10), dtype=float32, numpy=\n",
       "array([[0., 0., 0., 0., 0., 0., 0., 0., 0., 0.],\n",
       "       [0., 0., 0., 0., 0., 0., 0., 0., 0., 0.],\n",
       "       [0., 0., 0., 0., 0., 0., 0., 0., 0., 0.],\n",
       "       [0., 0., 0., 0., 0., 0., 0., 0., 0., 0.],\n",
       "       [0., 0., 0., 0., 0., 0., 0., 0., 0., 0.],\n",
       "       [0., 0., 0., 0., 0., 0., 0., 0., 0., 0.],\n",
       "       [0., 0., 0., 0., 0., 0., 0., 0., 0., 0.],\n",
       "       [0., 0., 0., 0., 0., 0., 0., 0., 0., 0.],\n",
       "       [0., 0., 0., 0., 0., 0., 0., 0., 0., 0.],\n",
       "       [0., 0., 0., 0., 0., 0., 0., 0., 0., 0.]], dtype=float32)>"
      ]
     },
     "execution_count": 3,
     "metadata": {},
     "output_type": "execute_result"
    }
   ],
   "source": [
    "layer(tf.zeros([10, 5]))"
   ]
  },
  {
   "cell_type": "code",
   "execution_count": 4,
   "metadata": {},
   "outputs": [
    {
     "data": {
      "text/plain": [
       "[<tf.Variable 'dense_1/kernel:0' shape=(5, 10) dtype=float32, numpy=\n",
       " array([[-0.19996104, -0.02625889, -0.21922058,  0.04577041, -0.12562382,\n",
       "         -0.46058875,  0.20283073,  0.59233564,  0.2616284 ,  0.38155228],\n",
       "        [ 0.15010518,  0.47771674, -0.2670975 , -0.52111435,  0.31134248,\n",
       "         -0.23287681, -0.31352744,  0.4927587 ,  0.00152284,  0.11819941],\n",
       "        [-0.13843212,  0.2002973 ,  0.40063316,  0.6058313 , -0.4524819 ,\n",
       "          0.5561729 ,  0.37768656, -0.32781923,  0.37883347, -0.5038324 ],\n",
       "        [ 0.02369499, -0.2878114 , -0.57143235, -0.4478801 ,  0.3273961 ,\n",
       "         -0.42993546,  0.39069337,  0.25974005, -0.14329356, -0.20518738],\n",
       "        [ 0.52704793,  0.46901864,  0.5412521 , -0.07448292, -0.34658042,\n",
       "          0.4261865 , -0.56964356,  0.55193883, -0.5345044 ,  0.3175428 ]],\n",
       "       dtype=float32)>,\n",
       " <tf.Variable 'dense_1/bias:0' shape=(10,) dtype=float32, numpy=array([0., 0., 0., 0., 0., 0., 0., 0., 0., 0.], dtype=float32)>]"
      ]
     },
     "execution_count": 4,
     "metadata": {},
     "output_type": "execute_result"
    }
   ],
   "source": [
    "layer.variables"
   ]
  },
  {
   "cell_type": "code",
   "execution_count": 5,
   "metadata": {},
   "outputs": [
    {
     "data": {
      "text/plain": [
       "(<tf.Variable 'dense_1/kernel:0' shape=(5, 10) dtype=float32, numpy=\n",
       " array([[-0.19996104, -0.02625889, -0.21922058,  0.04577041, -0.12562382,\n",
       "         -0.46058875,  0.20283073,  0.59233564,  0.2616284 ,  0.38155228],\n",
       "        [ 0.15010518,  0.47771674, -0.2670975 , -0.52111435,  0.31134248,\n",
       "         -0.23287681, -0.31352744,  0.4927587 ,  0.00152284,  0.11819941],\n",
       "        [-0.13843212,  0.2002973 ,  0.40063316,  0.6058313 , -0.4524819 ,\n",
       "          0.5561729 ,  0.37768656, -0.32781923,  0.37883347, -0.5038324 ],\n",
       "        [ 0.02369499, -0.2878114 , -0.57143235, -0.4478801 ,  0.3273961 ,\n",
       "         -0.42993546,  0.39069337,  0.25974005, -0.14329356, -0.20518738],\n",
       "        [ 0.52704793,  0.46901864,  0.5412521 , -0.07448292, -0.34658042,\n",
       "          0.4261865 , -0.56964356,  0.55193883, -0.5345044 ,  0.3175428 ]],\n",
       "       dtype=float32)>,\n",
       " <tf.Variable 'dense_1/bias:0' shape=(10,) dtype=float32, numpy=array([0., 0., 0., 0., 0., 0., 0., 0., 0., 0.], dtype=float32)>)"
      ]
     },
     "execution_count": 5,
     "metadata": {},
     "output_type": "execute_result"
    }
   ],
   "source": [
    "layer.kernel, layer.bias"
   ]
  },
  {
   "cell_type": "code",
   "execution_count": 6,
   "metadata": {},
   "outputs": [],
   "source": [
    "class MyDenseLayer(tf.keras.layers.Layer):\n",
    "  def __init__(self, num_outputs):\n",
    "    super().__init__()\n",
    "    \n",
    "    self.num_outputs = num_outputs\n",
    "    \n",
    "  def build(self, input_shape):\n",
    "    self.kernel = self.add_weight(\"kernel\", shape=[int(input_shape[-1]), self.num_outputs])\n",
    "    \n",
    "  def call(self, _input):\n",
    "    return tf.matmul(_input, self.kernel)\n",
    "  \n",
    "layer = MyDenseLayer(10)"
   ]
  },
  {
   "cell_type": "code",
   "execution_count": 7,
   "metadata": {},
   "outputs": [],
   "source": [
    "layer(tf.zeros([10, 5]));"
   ]
  },
  {
   "cell_type": "code",
   "execution_count": 8,
   "metadata": {},
   "outputs": [
    {
     "name": "stdout",
     "output_type": "stream",
     "text": [
      "['my_dense_layer/kernel:0']\n"
     ]
    }
   ],
   "source": [
    "print([var.name for var in layer.trainable_variables])"
   ]
  },
  {
   "cell_type": "code",
   "execution_count": 9,
   "metadata": {},
   "outputs": [
    {
     "data": {
      "text/plain": [
       "<tf.Variable 'my_dense_layer/kernel:0' shape=(5, 10) dtype=float32, numpy=\n",
       "array([[-0.48366582,  0.27682972,  0.00869602,  0.38519615, -0.26974913,\n",
       "        -0.08354414, -0.11645579, -0.14894679,  0.5525195 ,  0.02588147],\n",
       "       [ 0.15863985, -0.29266906, -0.0775997 ,  0.20527065, -0.6065272 ,\n",
       "        -0.4212393 , -0.18353528,  0.14279896, -0.4224925 , -0.3886699 ],\n",
       "       [ 0.2895441 ,  0.39864415,  0.6071928 ,  0.32575083, -0.6045897 ,\n",
       "        -0.543849  , -0.3101166 ,  0.37308103,  0.37571317,  0.16804713],\n",
       "       [-0.00881577, -0.5174538 , -0.2961787 , -0.30796543, -0.5177786 ,\n",
       "         0.14217967,  0.4026286 ,  0.4029811 ,  0.10726267,  0.30419195],\n",
       "       [ 0.49200362, -0.5951167 , -0.4109873 , -0.5033786 , -0.27576125,\n",
       "        -0.3044932 ,  0.19112313, -0.29112107, -0.34969285, -0.564424  ]],\n",
       "      dtype=float32)>"
      ]
     },
     "execution_count": 9,
     "metadata": {},
     "output_type": "execute_result"
    }
   ],
   "source": [
    "layer.kernel"
   ]
  },
  {
   "cell_type": "code",
   "execution_count": 22,
   "metadata": {},
   "outputs": [],
   "source": [
    "class ResnetIdentityBlock(tf.keras.Model):\n",
    "  def __init__(self, kernel_size, filters):\n",
    "    super(ResnetIdentityBlock, self).__init__(name=\"\")\n",
    "    f1, f2, f3 = filters\n",
    "    \n",
    "    self.conv2a = tf.keras.layers.Conv2D(f1, (1, 1))\n",
    "    self.bn2a = tf.keras.layers.BatchNormalization()\n",
    "    \n",
    "    self.conv2b = tf.keras.layers.Conv2D(f2, kernel_size, padding=\"same\")\n",
    "    self.bn2b = tf.keras.layers.BatchNormalization()\n",
    "    \n",
    "    self.conv2c = tf.keras.layers.Conv2D(f3, (1, 1))\n",
    "    self.bn2c = tf.keras.layers.BatchNormalization()\n",
    "    \n",
    "  def call(self, input_tensor, training=False):\n",
    "    x = self.conv2a(input_tensor)\n",
    "    x = self.bn2a(x, training=training)\n",
    "    x = tf.nn.relu(x)\n",
    "    \n",
    "    x = self.conv2b(x)\n",
    "    x = self.bn2b(x, training=training)\n",
    "    x = tf.nn.relu(x)\n",
    "    \n",
    "    x = self.conv2c(x)\n",
    "    x = self.bn2c(x, training=training)\n",
    "    \n",
    "    x += input_tensor\n",
    "    return tf.nn.relu(x)\n",
    "  \n",
    "block = ResnetIdentityBlock(1, [1, 2, 3])"
   ]
  },
  {
   "cell_type": "code",
   "execution_count": 23,
   "metadata": {},
   "outputs": [],
   "source": [
    "block(tf.zeros([1, 2, 3, 3]));"
   ]
  },
  {
   "cell_type": "code",
   "execution_count": 24,
   "metadata": {},
   "outputs": [
    {
     "data": {
      "text/plain": [
       "[<tensorflow.python.keras.layers.convolutional.Conv2D at 0x7f0af44b15b0>,\n",
       " <tensorflow.python.keras.layers.normalization_v2.BatchNormalization at 0x7f0af432beb0>,\n",
       " <tensorflow.python.keras.layers.convolutional.Conv2D at 0x7f0af42fc280>,\n",
       " <tensorflow.python.keras.layers.normalization_v2.BatchNormalization at 0x7f0af42fc8b0>,\n",
       " <tensorflow.python.keras.layers.convolutional.Conv2D at 0x7f0b002f04f0>,\n",
       " <tensorflow.python.keras.layers.normalization_v2.BatchNormalization at 0x7f0b002ee820>]"
      ]
     },
     "execution_count": 24,
     "metadata": {},
     "output_type": "execute_result"
    }
   ],
   "source": [
    "block.layers"
   ]
  },
  {
   "cell_type": "code",
   "execution_count": 25,
   "metadata": {},
   "outputs": [
    {
     "data": {
      "text/plain": [
       "18"
      ]
     },
     "execution_count": 25,
     "metadata": {},
     "output_type": "execute_result"
    }
   ],
   "source": [
    "len(block.variables)"
   ]
  },
  {
   "cell_type": "code",
   "execution_count": 26,
   "metadata": {},
   "outputs": [
    {
     "name": "stdout",
     "output_type": "stream",
     "text": [
      "Model: \"resnet_identity_block_2\"\n",
      "_________________________________________________________________\n",
      "Layer (type)                 Output Shape              Param #   \n",
      "=================================================================\n",
      "conv2d_9 (Conv2D)            multiple                  4         \n",
      "_________________________________________________________________\n",
      "batch_normalization_9 (Batch multiple                  4         \n",
      "_________________________________________________________________\n",
      "conv2d_10 (Conv2D)           multiple                  4         \n",
      "_________________________________________________________________\n",
      "batch_normalization_10 (Batc multiple                  8         \n",
      "_________________________________________________________________\n",
      "conv2d_11 (Conv2D)           multiple                  9         \n",
      "_________________________________________________________________\n",
      "batch_normalization_11 (Batc multiple                  12        \n",
      "=================================================================\n",
      "Total params: 41\n",
      "Trainable params: 29\n",
      "Non-trainable params: 12\n",
      "_________________________________________________________________\n"
     ]
    }
   ],
   "source": [
    "block.summary()"
   ]
  },
  {
   "cell_type": "code",
   "execution_count": 20,
   "metadata": {},
   "outputs": [
    {
     "data": {
      "text/plain": [
       "<tf.Tensor: shape=(1, 2, 3, 3), dtype=float32, numpy=\n",
       "array([[[[0., 0., 0.],\n",
       "         [0., 0., 0.],\n",
       "         [0., 0., 0.]],\n",
       "\n",
       "        [[0., 0., 0.],\n",
       "         [0., 0., 0.],\n",
       "         [0., 0., 0.]]]], dtype=float32)>"
      ]
     },
     "execution_count": 20,
     "metadata": {},
     "output_type": "execute_result"
    }
   ],
   "source": [
    "my_seq = tf.keras.Sequential([\n",
    "  tf.keras.layers.Conv2D(1, (1, 1), input_shape=(None, None, 3)),\n",
    "  tf.keras.layers.BatchNormalization(),\n",
    "  tf.keras.layers.Conv2D(2, 1, padding=\"same\"),\n",
    "  tf.keras.layers.BatchNormalization(),\n",
    "  tf.keras.layers.Conv2D(3, (1, 1)),\n",
    "  tf.keras.layers.BatchNormalization()\n",
    "])\n",
    "\n",
    "my_seq(tf.zeros([1, 2, 3, 3]))"
   ]
  },
  {
   "cell_type": "code",
   "execution_count": 21,
   "metadata": {},
   "outputs": [
    {
     "name": "stdout",
     "output_type": "stream",
     "text": [
      "Model: \"sequential\"\n",
      "_________________________________________________________________\n",
      "Layer (type)                 Output Shape              Param #   \n",
      "=================================================================\n",
      "conv2d_6 (Conv2D)            (None, None, None, 1)     4         \n",
      "_________________________________________________________________\n",
      "batch_normalization_6 (Batch (None, None, None, 1)     4         \n",
      "_________________________________________________________________\n",
      "conv2d_7 (Conv2D)            (None, None, None, 2)     4         \n",
      "_________________________________________________________________\n",
      "batch_normalization_7 (Batch (None, None, None, 2)     8         \n",
      "_________________________________________________________________\n",
      "conv2d_8 (Conv2D)            (None, None, None, 3)     9         \n",
      "_________________________________________________________________\n",
      "batch_normalization_8 (Batch (None, None, None, 3)     12        \n",
      "=================================================================\n",
      "Total params: 41\n",
      "Trainable params: 29\n",
      "Non-trainable params: 12\n",
      "_________________________________________________________________\n"
     ]
    }
   ],
   "source": [
    "my_seq.summary()"
   ]
  },
  {
   "cell_type": "code",
   "execution_count": null,
   "metadata": {},
   "outputs": [],
   "source": []
  }
 ],
 "metadata": {
  "kernelspec": {
   "display_name": "Python 3",
   "language": "python",
   "name": "python3"
  },
  "language_info": {
   "codemirror_mode": {
    "name": "ipython",
    "version": 3
   },
   "file_extension": ".py",
   "mimetype": "text/x-python",
   "name": "python",
   "nbconvert_exporter": "python",
   "pygments_lexer": "ipython3",
   "version": "3.8.5"
  }
 },
 "nbformat": 4,
 "nbformat_minor": 4
}
