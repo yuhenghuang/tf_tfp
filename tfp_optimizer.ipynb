{
 "cells": [
  {
   "cell_type": "code",
   "execution_count": 1,
   "metadata": {},
   "outputs": [
    {
     "name": "stdout",
     "output_type": "stream",
     "text": [
      "2.3.0 0.11.0\n"
     ]
    }
   ],
   "source": [
    "from functools import wraps\n",
    "import contextlib\n",
    "import os\n",
    "import time\n",
    "import warnings\n",
    "# warnings.filterwarnings(\"ignore\")\n",
    "\n",
    "import numpy as np\n",
    "import pandas as pd\n",
    "import matplotlib.pyplot as plt\n",
    "# import seaborn as sns; sns.set()\n",
    "import scipy as sp\n",
    "from sklearn import preprocessing\n",
    "\n",
    "import tensorflow as tf\n",
    "import tensorflow_probability as tfp\n",
    "\n",
    "print(tf.__version__, tfp.__version__)"
   ]
  },
  {
   "cell_type": "code",
   "execution_count": 6,
   "metadata": {},
   "outputs": [],
   "source": [
    "def add_grad_to_val(fn_obj):\n",
    "  \n",
    "  @wraps(fn_obj)\n",
    "  def wrapped(x):\n",
    "    return tfp.math.value_and_gradient(fn_obj, x)\n",
    "  \n",
    "  return wrapped\n",
    "\n",
    "@contextlib.contextmanager\n",
    "def time_execution():\n",
    "  t0 = time.time()\n",
    "  yield\n",
    "  dt = time.time() - t0\n",
    "  print(\"Evaluation took: {:.2f} seconds.\".format(dt))"
   ]
  },
  {
   "cell_type": "code",
   "execution_count": 3,
   "metadata": {},
   "outputs": [
    {
     "name": "stdout",
     "output_type": "stream",
     "text": [
      "L-BFGS Results\n",
      "Converged: tf.Tensor(True, shape=(), dtype=bool)\n",
      "Location of the minimum: tf.Tensor([1. 1. 1. 1. 1. 1. 1. 1. 1. 1.], shape=(10,), dtype=float64)\n",
      "Number of iterations: tf.Tensor(10, shape=(), dtype=int32)\n"
     ]
    }
   ],
   "source": [
    "np.random.seed(10)\n",
    "\n",
    "dim = 10\n",
    "miniumum = np.ones([dim])\n",
    "scales = np.exp(np.random.randn(dim))\n",
    "\n",
    "@tf.function\n",
    "@add_grad_to_val\n",
    "def quadratic(x):\n",
    "  return tf.reduce_sum(scales * (x - miniumum) ** 2, axis=-1)\n",
    "\n",
    "start = np.random.randn(dim)\n",
    "\n",
    "results = tfp.optimizer.lbfgs_minimize(quadratic, initial_position=tf.constant(start), tolerance=1e-6)\n",
    "\n",
    "print('L-BFGS Results')\n",
    "print('Converged:', results.converged)\n",
    "print('Location of the minimum:', results.position)\n",
    "print('Number of iterations:', results.num_iterations)"
   ]
  },
  {
   "cell_type": "code",
   "execution_count": 4,
   "metadata": {},
   "outputs": [
    {
     "name": "stdout",
     "output_type": "stream",
     "text": [
      "BFGS Results\n",
      "Converged: tf.Tensor(True, shape=(), dtype=bool)\n",
      "Location of the minimum: tf.Tensor([1. 1. 1. 1. 1. 1. 1. 1. 1. 1.], shape=(10,), dtype=float64)\n",
      "Number of iterations: tf.Tensor(10, shape=(), dtype=int32)\n"
     ]
    }
   ],
   "source": [
    "results = tfp.optimizer.bfgs_minimize(quadratic, initial_position=tf.constant(start), tolerance=1e-6)\n",
    "\n",
    "print('BFGS Results')\n",
    "print('Converged:', results.converged)\n",
    "print('Location of the minimum:', results.position)\n",
    "print('Number of iterations:', results.num_iterations)"
   ]
  },
  {
   "cell_type": "code",
   "execution_count": 5,
   "metadata": {},
   "outputs": [],
   "source": [
    "data_path = tf.keras.utils.get_file(\n",
    "  fname=\"prostate.data\",\n",
    "  origin=\"http://web.stanford.edu/~hastie/ElemStatLearn/datasets/prostate.data\"\n",
    ")"
   ]
  },
  {
   "cell_type": "code",
   "execution_count": 6,
   "metadata": {},
   "outputs": [],
   "source": [
    "df_prostate = pd.read_csv(data_path, delim_whitespace=True, index_col=0)"
   ]
  },
  {
   "cell_type": "code",
   "execution_count": 7,
   "metadata": {},
   "outputs": [],
   "source": [
    "np.random.seed(12345)\n",
    "\n",
    "feature_names = ['lcavol', 'lweight',   'age',  'lbph', 'svi', 'lcp',   \n",
    "                 'gleason', 'pgg45']\n",
    "\n",
    "scalar = preprocessing.StandardScaler()\n",
    "df_prostate[feature_names] = pd.DataFrame(\n",
    "  scalar.fit_transform(\n",
    "    df_prostate[feature_names].astype(np.float64)\n",
    "  )\n",
    ")\n",
    "\n",
    "df_prostate_train = df_prostate.query(\"train=='T'\")\n",
    "\n",
    "features = df_prostate_train[feature_names]\n",
    "labels = df_prostate_train[[\"lpsa\"]]\n",
    "\n",
    "feat = tf.constant(features.values, dtype=tf.float64)\n",
    "lbl = tf.constant(labels.values, dtype=tf.float64)\n",
    "\n",
    "dtype = feat.dtype\n",
    "\n",
    "regularization = 0.0\n",
    "dim = 8\n",
    "\n",
    "start = np.random.randn(dim+1)\n",
    "\n",
    "\n",
    "@tf.function(experimental_compile=True)\n",
    "def regression_loss(params):\n",
    "  params = tf.squeeze(params)\n",
    "  intercept, beta = params[0], params[1:]\n",
    "  \n",
    "  pred = tf.matmul(feat, tf.expand_dims(beta, axis=-1)) + intercept\n",
    "  \n",
    "  mse_loss = tf.reduce_sum(\n",
    "    tf.cast(\n",
    "      tf.losses.mean_squared_error(y_true=lbl, y_pred=pred),\n",
    "      tf.float64\n",
    "    )\n",
    "  )\n",
    "  \n",
    "  l1_penalty = regularization * tf.reduce_sum(tf.abs(beta))\n",
    "  \n",
    "  total_loss = mse_loss + l1_penalty\n",
    "  return total_loss"
   ]
  },
  {
   "cell_type": "code",
   "execution_count": 8,
   "metadata": {},
   "outputs": [
    {
     "name": "stdout",
     "output_type": "stream",
     "text": [
      "L-BFGS Results\n",
      "Converged: tf.Tensor(True, shape=(), dtype=bool)\n",
      "Intercept: Fitted (2.3879985744556484)\n",
      "Beta:      Fitted [ 0.68626215  0.28193532 -0.17030254  0.10799274  0.33634988 -0.24888523\n",
      "  0.11992237  0.08689026]\n"
     ]
    }
   ],
   "source": [
    "results = tfp.optimizer.lbfgs_minimize(\n",
    "  add_grad_to_val(regression_loss),\n",
    "  initial_position=tf.constant(start),\n",
    "  tolerance=1e-8\n",
    ")\n",
    "\n",
    "minimum = results.position\n",
    "fitted_intercept = minimum[0]\n",
    "fitted_beta = minimum[1:]\n",
    "\n",
    "print('L-BFGS Results')\n",
    "print('Converged:', results.converged)\n",
    "print('Intercept: Fitted ({})'.format(fitted_intercept))\n",
    "print('Beta:      Fitted {}'.format(fitted_beta))"
   ]
  },
  {
   "cell_type": "code",
   "execution_count": 9,
   "metadata": {},
   "outputs": [
    {
     "name": "stdout",
     "output_type": "stream",
     "text": [
      "Nelder Mead Results\n",
      "Converged: tf.Tensor(True, shape=(), dtype=bool)\n",
      "Intercept: Fitted (2.387998456121595)\n",
      "Beta:      Fitted [ 0.68626266  0.28193456 -0.17030291  0.10799375  0.33635132 -0.24888703\n",
      "  0.11992244  0.08689023]\n"
     ]
    }
   ],
   "source": [
    "initial_vertex = tf.expand_dims(tf.constant(start, dtype=dtype), axis=-1)\n",
    "\n",
    "results = tfp.optimizer.nelder_mead_minimize(\n",
    "  regression_loss,\n",
    "  initial_vertex=initial_vertex,\n",
    "  func_tolerance=1e-10,\n",
    "  position_tolerance=1e-10\n",
    ")\n",
    "\n",
    "minimum = tf.squeeze(results.position)\n",
    "fitted_intercept = minimum[0]\n",
    "fitted_beta = minimum[1:]\n",
    "\n",
    "print('Nelder Mead Results')\n",
    "print('Converged:', results.converged)\n",
    "print('Intercept: Fitted ({})'.format(fitted_intercept))\n",
    "print('Beta:      Fitted {}'.format(fitted_beta))"
   ]
  },
  {
   "cell_type": "code",
   "execution_count": 10,
   "metadata": {},
   "outputs": [
    {
     "name": "stdout",
     "output_type": "stream",
     "text": [
      "Converged: tf.Tensor(True, shape=(), dtype=bool)\n",
      "Intercept: Fitted (1.4111415084244363), Actual (1.3934058329729904)\n",
      "Beta:\n",
      "\tFitted [-0.18016612  0.53121578 -0.56420632 -0.5336374   2.00499675],\n",
      "\tActual [-0.20470766  0.47894334 -0.51943872 -0.5557303   1.96578057]\n"
     ]
    }
   ],
   "source": [
    "np.random.seed(12345)\n",
    "\n",
    "dim = 5\n",
    "n_obs = 10000\n",
    "\n",
    "beta = np.random.randn(dim)\n",
    "intercept = np.random.randn()\n",
    "\n",
    "features = np.random.randn(n_obs, dim)\n",
    "probs = sp.special.expit(\n",
    "  np.matmul(features, np.expand_dims(beta, -1)) + intercept\n",
    ")\n",
    "\n",
    "labels = sp.stats.bernoulli.rvs(probs)\n",
    "\n",
    "regularization = 0.8\n",
    "feat = tf.constant(features)\n",
    "lbl = tf.constant(labels, dtype=feat.dtype)\n",
    "\n",
    "\n",
    "@tf.function(experimental_compile=True)\n",
    "@add_grad_to_val\n",
    "def negative_log_likelihood(params):\n",
    "  \n",
    "  intercept, beta = params[0], params[1:]\n",
    "  logit = tf.matmul(feat, tf.expand_dims(beta, -1)) + intercept\n",
    "  \n",
    "  log_likelihood = tf.reduce_sum(\n",
    "    tf.nn.sigmoid_cross_entropy_with_logits(labels=lbl, logits=logit)\n",
    "  )\n",
    "  \n",
    "  l2_penalty = regularization * tf.reduce_sum(tf.square(beta))\n",
    "  \n",
    "  total_loss = log_likelihood + l2_penalty\n",
    "  return total_loss\n",
    "\n",
    "start = np.random.randn(dim+1)\n",
    "\n",
    "results = tfp.optimizer.lbfgs_minimize(\n",
    "  negative_log_likelihood,\n",
    "  initial_position=tf.constant(start),\n",
    "  tolerance=1e-8\n",
    ")\n",
    "\n",
    "minimum = results.position\n",
    "fitted_intercept = minimum[0]\n",
    "fitted_beta = minimum[1:]\n",
    "\n",
    "print('Converged:', results.converged)\n",
    "print('Intercept: Fitted ({}), Actual ({})'.format(fitted_intercept, intercept))\n",
    "print('Beta:\\n\\tFitted {},\\n\\tActual {}'.format(fitted_beta, beta))"
   ]
  },
  {
   "cell_type": "code",
   "execution_count": 3,
   "metadata": {},
   "outputs": [],
   "source": [
    "class Logit:\n",
    "  def __init__(self, dim=5, n_obs=10000):\n",
    "    self.dim = dim\n",
    "    self.need_compile = None\n",
    "    self.reset(dim, n_obs)\n",
    "    \n",
    "  def reset(self, dim, n_obs):\n",
    "    self.beta = np.random.randn(dim)\n",
    "    self.intercept = np.random.randn()\n",
    "\n",
    "    features = np.random.randn(n_obs, dim)\n",
    "    probs = sp.special.expit(\n",
    "      np.matmul(features, np.expand_dims(self.beta, -1)) + self.intercept\n",
    "    )\n",
    "    \n",
    "    labels = sp.stats.bernoulli.rvs(probs)\n",
    "\n",
    "    self.regularization = tf.constant(0.8, dtype=tf.float64)\n",
    "    self.feat = tf.constant(features)\n",
    "    self.lbl = tf.constant(labels, dtype=tf.float64)\n",
    "    \n",
    "    self.dim = dim\n",
    "    self.need_compile = True\n",
    "    \n",
    "  def negative_log_likelihood(self, params):\n",
    "    intercept, beta = params[0], params[1:]\n",
    "    logit = tf.matmul(self.feat, tf.expand_dims(beta, -1)) + intercept\n",
    "  \n",
    "    log_likelihood = tf.reduce_sum(\n",
    "      tf.nn.sigmoid_cross_entropy_with_logits(labels=self.lbl, logits=logit)\n",
    "    )\n",
    "\n",
    "    l2_penalty = self.regularization * tf.reduce_sum(tf.square(beta))\n",
    "  \n",
    "    total_loss = log_likelihood + l2_penalty\n",
    "    return total_loss, tf.gradients(total_loss, params)[0]\n",
    "  \n",
    "  def optimize(self):\n",
    "    if self.need_compile:\n",
    "      self.fn_obj = tf.function(self.negative_log_likelihood, experimental_compile=True)\n",
    "      self.need_compile = False\n",
    "      \n",
    "    start = np.random.randn(self.dim+1)\n",
    "      \n",
    "    with time_execution():\n",
    "      res = tfp.optimizer.lbfgs_minimize(\n",
    "        self.fn_obj,\n",
    "        initial_position=tf.constant(start),\n",
    "        tolerance=1e-8\n",
    "      )\n",
    "    \n",
    "    minimum = res.position\n",
    "    fitted_intercept = minimum[0]\n",
    "    fitted_beta = minimum[1:]\n",
    "\n",
    "    print('Converged:', res.converged)\n",
    "    print('Intercept: Fitted ({}), Actual ({})'.format(fitted_intercept, self.intercept))\n",
    "    print('Beta:\\n\\tFitted {},\\n\\tActual {}'.format(fitted_beta, self.beta))\n",
    "    \n",
    "    return "
   ]
  },
  {
   "cell_type": "code",
   "execution_count": 4,
   "metadata": {},
   "outputs": [],
   "source": [
    "logit = Logit(5, 10000)"
   ]
  },
  {
   "cell_type": "code",
   "execution_count": 7,
   "metadata": {},
   "outputs": [
    {
     "name": "stdout",
     "output_type": "stream",
     "text": [
      "Evaluation took: 0.40 seconds.\n",
      "Converged: tf.Tensor(True, shape=(), dtype=bool)\n",
      "Intercept: Fitted (-0.3072084564496592), Actual (-0.31728045144336947)\n",
      "Beta:\n",
      "\tFitted [-0.70948868 -0.80968872  0.20237463  1.75168253  1.21557915],\n",
      "\tActual [-0.71896628 -0.78084514  0.2158353   1.82554808  1.22479961]\n"
     ]
    }
   ],
   "source": [
    "logit.optimize()"
   ]
  },
  {
   "cell_type": "code",
   "execution_count": 8,
   "metadata": {},
   "outputs": [],
   "source": [
    "logit.reset(6, 12000)"
   ]
  },
  {
   "cell_type": "code",
   "execution_count": 9,
   "metadata": {},
   "outputs": [
    {
     "name": "stdout",
     "output_type": "stream",
     "text": [
      "Evaluation took: 0.31 seconds.\n",
      "Converged: tf.Tensor(True, shape=(), dtype=bool)\n",
      "Intercept: Fitted (1.6116725639111233), Actual (1.6092357945939424)\n",
      "Beta:\n",
      "\tFitted [ 0.21149472 -0.2529195  -1.05066718 -0.57306566  1.29443535 -0.02606926],\n",
      "\tActual [ 0.20281719 -0.23340786 -1.0128432  -0.57315357  1.31181866  0.03572824]\n",
      "Evaluation took: 0.13 seconds.\n",
      "Converged: tf.Tensor(True, shape=(), dtype=bool)\n",
      "Intercept: Fitted (1.611672563908161), Actual (1.6092357945939424)\n",
      "Beta:\n",
      "\tFitted [ 0.21149472 -0.2529195  -1.05066718 -0.57306566  1.29443535 -0.02606926],\n",
      "\tActual [ 0.20281719 -0.23340786 -1.0128432  -0.57315357  1.31181866  0.03572824]\n",
      "Evaluation took: 0.15 seconds.\n",
      "Converged: tf.Tensor(True, shape=(), dtype=bool)\n",
      "Intercept: Fitted (1.6116725639084013), Actual (1.6092357945939424)\n",
      "Beta:\n",
      "\tFitted [ 0.21149472 -0.2529195  -1.05066718 -0.57306566  1.29443535 -0.02606926],\n",
      "\tActual [ 0.20281719 -0.23340786 -1.0128432  -0.57315357  1.31181866  0.03572824]\n",
      "Evaluation took: 0.13 seconds.\n",
      "Converged: tf.Tensor(True, shape=(), dtype=bool)\n",
      "Intercept: Fitted (1.6116725639072744), Actual (1.6092357945939424)\n",
      "Beta:\n",
      "\tFitted [ 0.21149472 -0.2529195  -1.05066718 -0.57306566  1.29443535 -0.02606926],\n",
      "\tActual [ 0.20281719 -0.23340786 -1.0128432  -0.57315357  1.31181866  0.03572824]\n",
      "Evaluation took: 0.16 seconds.\n",
      "Converged: tf.Tensor(True, shape=(), dtype=bool)\n",
      "Intercept: Fitted (1.6116725639091296), Actual (1.6092357945939424)\n",
      "Beta:\n",
      "\tFitted [ 0.21149472 -0.2529195  -1.05066718 -0.57306566  1.29443535 -0.02606926],\n",
      "\tActual [ 0.20281719 -0.23340786 -1.0128432  -0.57315357  1.31181866  0.03572824]\n",
      "Evaluation took: 0.16 seconds.\n",
      "Converged: tf.Tensor(True, shape=(), dtype=bool)\n",
      "Intercept: Fitted (1.6116725639092293), Actual (1.6092357945939424)\n",
      "Beta:\n",
      "\tFitted [ 0.21149472 -0.2529195  -1.05066718 -0.57306566  1.29443535 -0.02606926],\n",
      "\tActual [ 0.20281719 -0.23340786 -1.0128432  -0.57315357  1.31181866  0.03572824]\n",
      "Evaluation took: 0.17 seconds.\n",
      "Converged: tf.Tensor(True, shape=(), dtype=bool)\n",
      "Intercept: Fitted (1.6116725639109826), Actual (1.6092357945939424)\n",
      "Beta:\n",
      "\tFitted [ 0.21149472 -0.2529195  -1.05066718 -0.57306566  1.29443535 -0.02606926],\n",
      "\tActual [ 0.20281719 -0.23340786 -1.0128432  -0.57315357  1.31181866  0.03572824]\n",
      "Evaluation took: 0.13 seconds.\n",
      "Converged: tf.Tensor(True, shape=(), dtype=bool)\n",
      "Intercept: Fitted (1.6116725639088245), Actual (1.6092357945939424)\n",
      "Beta:\n",
      "\tFitted [ 0.21149472 -0.2529195  -1.05066718 -0.57306566  1.29443535 -0.02606926],\n",
      "\tActual [ 0.20281719 -0.23340786 -1.0128432  -0.57315357  1.31181866  0.03572824]\n",
      "Evaluation took: 0.23 seconds.\n",
      "Converged: tf.Tensor(True, shape=(), dtype=bool)\n",
      "Intercept: Fitted (1.6116725639092033), Actual (1.6092357945939424)\n",
      "Beta:\n",
      "\tFitted [ 0.21149472 -0.2529195  -1.05066718 -0.57306566  1.29443535 -0.02606926],\n",
      "\tActual [ 0.20281719 -0.23340786 -1.0128432  -0.57315357  1.31181866  0.03572824]\n",
      "Evaluation took: 0.13 seconds.\n",
      "Converged: tf.Tensor(True, shape=(), dtype=bool)\n",
      "Intercept: Fitted (1.6116725639100251), Actual (1.6092357945939424)\n",
      "Beta:\n",
      "\tFitted [ 0.21149472 -0.2529195  -1.05066718 -0.57306566  1.29443535 -0.02606926],\n",
      "\tActual [ 0.20281719 -0.23340786 -1.0128432  -0.57315357  1.31181866  0.03572824]\n",
      "Evaluation took: 0.16 seconds.\n",
      "Converged: tf.Tensor(True, shape=(), dtype=bool)\n",
      "Intercept: Fitted (1.6116725639092215), Actual (1.6092357945939424)\n",
      "Beta:\n",
      "\tFitted [ 0.21149472 -0.2529195  -1.05066718 -0.57306566  1.29443535 -0.02606926],\n",
      "\tActual [ 0.20281719 -0.23340786 -1.0128432  -0.57315357  1.31181866  0.03572824]\n",
      "Evaluation took: 0.19 seconds.\n",
      "Converged: tf.Tensor(True, shape=(), dtype=bool)\n",
      "Intercept: Fitted (1.6116725639092333), Actual (1.6092357945939424)\n",
      "Beta:\n",
      "\tFitted [ 0.21149472 -0.2529195  -1.05066718 -0.57306566  1.29443535 -0.02606926],\n",
      "\tActual [ 0.20281719 -0.23340786 -1.0128432  -0.57315357  1.31181866  0.03572824]\n",
      "Evaluation took: 0.23 seconds.\n",
      "Converged: tf.Tensor(True, shape=(), dtype=bool)\n",
      "Intercept: Fitted (1.611672563909229), Actual (1.6092357945939424)\n",
      "Beta:\n",
      "\tFitted [ 0.21149472 -0.2529195  -1.05066718 -0.57306566  1.29443535 -0.02606926],\n",
      "\tActual [ 0.20281719 -0.23340786 -1.0128432  -0.57315357  1.31181866  0.03572824]\n",
      "Evaluation took: 0.19 seconds.\n",
      "Converged: tf.Tensor(True, shape=(), dtype=bool)\n",
      "Intercept: Fitted (1.611672563913021), Actual (1.6092357945939424)\n",
      "Beta:\n",
      "\tFitted [ 0.21149472 -0.2529195  -1.05066718 -0.57306566  1.29443535 -0.02606926],\n",
      "\tActual [ 0.20281719 -0.23340786 -1.0128432  -0.57315357  1.31181866  0.03572824]\n",
      "Evaluation took: 0.10 seconds.\n",
      "Converged: tf.Tensor(True, shape=(), dtype=bool)\n",
      "Intercept: Fitted (1.6116725670818428), Actual (1.6092357945939424)\n",
      "Beta:\n",
      "\tFitted [ 0.21149472 -0.2529195  -1.05066718 -0.57306566  1.29443536 -0.02606926],\n",
      "\tActual [ 0.20281719 -0.23340786 -1.0128432  -0.57315357  1.31181866  0.03572824]\n",
      "Evaluation took: 0.15 seconds.\n",
      "Converged: tf.Tensor(True, shape=(), dtype=bool)\n",
      "Intercept: Fitted (1.611672563909061), Actual (1.6092357945939424)\n",
      "Beta:\n",
      "\tFitted [ 0.21149472 -0.2529195  -1.05066718 -0.57306566  1.29443535 -0.02606926],\n",
      "\tActual [ 0.20281719 -0.23340786 -1.0128432  -0.57315357  1.31181866  0.03572824]\n",
      "Evaluation took: 0.20 seconds.\n",
      "Converged: tf.Tensor(True, shape=(), dtype=bool)\n",
      "Intercept: Fitted (1.6116725639091711), Actual (1.6092357945939424)\n",
      "Beta:\n",
      "\tFitted [ 0.21149472 -0.2529195  -1.05066718 -0.57306566  1.29443535 -0.02606926],\n",
      "\tActual [ 0.20281719 -0.23340786 -1.0128432  -0.57315357  1.31181866  0.03572824]\n",
      "Evaluation took: 0.14 seconds.\n",
      "Converged: tf.Tensor(True, shape=(), dtype=bool)\n",
      "Intercept: Fitted (1.6116725639092007), Actual (1.6092357945939424)\n",
      "Beta:\n",
      "\tFitted [ 0.21149472 -0.2529195  -1.05066718 -0.57306566  1.29443535 -0.02606926],\n",
      "\tActual [ 0.20281719 -0.23340786 -1.0128432  -0.57315357  1.31181866  0.03572824]\n",
      "Evaluation took: 0.15 seconds.\n",
      "Converged: tf.Tensor(True, shape=(), dtype=bool)\n",
      "Intercept: Fitted (1.611672563909383), Actual (1.6092357945939424)\n",
      "Beta:\n",
      "\tFitted [ 0.21149472 -0.2529195  -1.05066718 -0.57306566  1.29443535 -0.02606926],\n",
      "\tActual [ 0.20281719 -0.23340786 -1.0128432  -0.57315357  1.31181866  0.03572824]\n",
      "Evaluation took: 0.21 seconds.\n",
      "Converged: tf.Tensor(True, shape=(), dtype=bool)\n",
      "Intercept: Fitted (1.6116725639074045), Actual (1.6092357945939424)\n",
      "Beta:\n",
      "\tFitted [ 0.21149472 -0.2529195  -1.05066718 -0.57306566  1.29443535 -0.02606926],\n",
      "\tActual [ 0.20281719 -0.23340786 -1.0128432  -0.57315357  1.31181866  0.03572824]\n"
     ]
    }
   ],
   "source": [
    "n = 20\n",
    "while n>0:\n",
    "  logit.optimize()\n",
    "  n -= 1"
   ]
  },
  {
   "cell_type": "code",
   "execution_count": null,
   "metadata": {},
   "outputs": [],
   "source": []
  }
 ],
 "metadata": {
  "kernelspec": {
   "display_name": "Python 3",
   "language": "python",
   "name": "python3"
  },
  "language_info": {
   "codemirror_mode": {
    "name": "ipython",
    "version": 3
   },
   "file_extension": ".py",
   "mimetype": "text/x-python",
   "name": "python",
   "nbconvert_exporter": "python",
   "pygments_lexer": "ipython3",
   "version": "3.8.5"
  }
 },
 "nbformat": 4,
 "nbformat_minor": 4
}
